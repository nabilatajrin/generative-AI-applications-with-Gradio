{
  "metadata": {
    "language_info": {
      "codemirror_mode": {
        "name": "python",
        "version": 3
      },
      "file_extension": ".py",
      "mimetype": "text/x-python",
      "name": "python",
      "nbconvert_exporter": "python",
      "pygments_lexer": "ipython3",
      "version": "3.8"
    },
    "kernelspec": {
      "name": "python",
      "display_name": "Python (Pyodide)",
      "language": "python"
    }
  },
  "nbformat_minor": 4,
  "nbformat": 4,
  "cells": [
    {
      "cell_type": "markdown",
      "source": "# Describe-and-Generate game 🖍️",
      "metadata": {}
    },
    {
      "cell_type": "markdown",
      "source": "Lets load our HF API key and relevant Python libraries",
      "metadata": {}
    },
    {
      "cell_type": "code",
      "source": "import os\nimport io\nfrom IPython.display import Image, display, HTML\nfrom PIL import Image\nimport base64 \n\nfrom dotenv import load_dotenv, find_dotenv\n_ = load_dotenv(find_dotenv()) # read local .env file\nhf_api_key = os.environ['HF_API_KEY']",
      "metadata": {},
      "execution_count": null,
      "outputs": []
    },
    {
      "cell_type": "code",
      "source": "# Helper function\nimport requests, json\n\n#Here we are going to call multiple endpoints!\ndef get_completion(inputs, parameters=None, ENDPOINT_URL=\"\"):\n    headers = {\n      \"Authorization\": f\"Bearer {hf_api_key}\",\n      \"Content-Type\": \"application/json\"\n    }   \n    data = { \"inputs\": inputs }\n    if parameters is not None:\n        data.update({\"parameters\": parameters})\n    response = requests.request(\"POST\",\n                                ENDPOINT_URL,\n                                headers=headers,\n                                data=json.dumps(data))\n    return json.loads(response.content.decode(\"utf-8\"))",
      "metadata": {},
      "execution_count": null,
      "outputs": []
    },
    {
      "cell_type": "code",
      "source": "#text-to-image\nTTI_ENDPOINT = os.environ['HF_API_TTI_BASE']\n#image-to-text\nITT_ENDPOINT = os.environ['HF_API_ITT_BASE']",
      "metadata": {},
      "execution_count": null,
      "outputs": []
    },
    {
      "cell_type": "markdown",
      "source": "## Building our game with `gr.Blocks()`",
      "metadata": {}
    },
    {
      "cell_type": "code",
      "source": "#Bringing the functions from lessons 3 and 4!\ndef image_to_base64_str(pil_image):\n    byte_arr = io.BytesIO()\n    pil_image.save(byte_arr, format='PNG')\n    byte_arr = byte_arr.getvalue()\n    return str(base64.b64encode(byte_arr).decode('utf-8'))\n\ndef base64_to_pil(img_base64):\n    base64_decoded = base64.b64decode(img_base64)\n    byte_stream = io.BytesIO(base64_decoded)\n    pil_image = Image.open(byte_stream)\n    return pil_image\n\ndef captioner(image):\n    base64_image = image_to_base64_str(image)\n    result = get_completion(base64_image, None, ITT_ENDPOINT)\n    return result[0]['generated_text']\n\ndef generate(prompt):\n    output = get_completion(prompt, None, TTI_ENDPOINT)\n    result_image = base64_to_pil(output)\n    return result_image",
      "metadata": {},
      "execution_count": null,
      "outputs": []
    },
    {
      "cell_type": "markdown",
      "source": "### First attempt, just captioning",
      "metadata": {}
    },
    {
      "cell_type": "code",
      "source": "import gradio as gr \nwith gr.Blocks() as demo:\n    gr.Markdown(\"# Describe-and-Generate game 🖍️\")\n    image_upload = gr.Image(label=\"Our first image\",type=\"pil\")\n    btn_caption = gr.Button(\"Generate caption\")\n    caption = gr.Textbox(label=\"Generated caption\")\n    \n    btn_caption.click(fn=captioner, inputs=[image_upload], outputs=[caption])\n\ngr.close_all()\ndemo.launch(share=True, server_port=int(os.environ['PORT1']))",
      "metadata": {},
      "execution_count": null,
      "outputs": []
    },
    {
      "cell_type": "markdown",
      "source": "### Let's add generation",
      "metadata": {}
    },
    {
      "cell_type": "code",
      "source": "with gr.Blocks() as demo:\n    gr.Markdown(\"# Describe-and-Generate game 🖍️\")\n    image_upload = gr.Image(label=\"Our first image\",type=\"pil\")\n    btn_caption = gr.Button(\"Generate caption\")\n    caption = gr.Textbox(label=\"Generated caption\")\n    btn_image = gr.Button(\"Generate image\")\n    image_output = gr.Image(label=\"Generated Image\")\n    btn_caption.click(fn=captioner, inputs=[image_upload], outputs=[caption])\n    btn_image.click(fn=generate, inputs=[caption], outputs=[image_output])\n\ngr.close_all()\ndemo.launch(share=True, server_port=int(os.environ['PORT2']))",
      "metadata": {},
      "execution_count": null,
      "outputs": []
    },
    {
      "cell_type": "markdown",
      "source": "### Doing it all at once! ",
      "metadata": {}
    },
    {
      "cell_type": "code",
      "source": "def caption_and_generate(image):\n    caption = captioner(image)\n    image = generate(caption)\n    return [caption, image]\n\nwith gr.Blocks() as demo:\n    gr.Markdown(\"# Describe-and-Generate game 🖍️\")\n    image_upload = gr.Image(label=\"Our first image\",type=\"pil\")\n    btn_all = gr.Button(\"Caption and generate\")\n    caption = gr.Textbox(label=\"Generated caption\")\n    image_output = gr.Image(label=\"Generated Image\")\n\n    btn_all.click(fn=caption_and_generate, inputs=[image_upload], outputs=[caption, image_output])\n\ngr.close_all()\ndemo.launch(share=True, server_port=int(os.environ['PORT3']))",
      "metadata": {},
      "execution_count": null,
      "outputs": []
    },
    {
      "cell_type": "code",
      "source": "gr.close_all()",
      "metadata": {},
      "execution_count": null,
      "outputs": []
    },
    {
      "cell_type": "code",
      "source": "",
      "metadata": {},
      "execution_count": null,
      "outputs": []
    }
  ]
}
